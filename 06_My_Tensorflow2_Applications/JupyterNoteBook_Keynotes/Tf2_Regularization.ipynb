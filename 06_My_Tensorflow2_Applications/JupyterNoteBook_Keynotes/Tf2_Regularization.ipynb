{
 "cells": [
  {
   "cell_type": "markdown",
   "metadata": {},
   "source": [
    "# Tensorflow2 KeyNotes\n",
    "### ==== Regularization setting in Neural Nets (TF2) ====\n",
    "### Instructions\n",
    "\n",
    "These serial notebooks are intended to record my practicing and keynotes with deep learning in the framework of TensorFlow 2. Within these notebooks, I demonstrate the networks with specific examples and my personal interpretations.  You can find instructions in each section for each project.  Feel free to refer to it if is helpful for your work. \n",
    "\n",
    "In this notebook, I demonstrate the common approaches for regularization in the neural network: \n",
    "1. weight decay with L2 regularization\n",
    "2. Dropout\n",
    "3. option with customed callback\n",
    "\n",
    "### Code by Hao, Zhao, June, 2020.\n",
    "\n"
   ]
  },
  {
   "cell_type": "code",
   "execution_count": 1,
   "metadata": {},
   "outputs": [],
   "source": [
    "## Import the tensorflow library"
   ]
  },
  {
   "cell_type": "code",
   "execution_count": 2,
   "metadata": {},
   "outputs": [
    {
     "name": "stdout",
     "output_type": "stream",
     "text": [
      "2.2.0\n"
     ]
    }
   ],
   "source": [
    "import tensorflow as tf\n",
    "print(tf.__version__)\n"
   ]
  },
  {
   "cell_type": "markdown",
   "metadata": {},
   "source": [
    "\n",
    "###  Load the diabetes dataset and preprocess the dataset "
   ]
  },
  {
   "cell_type": "code",
   "execution_count": 3,
   "metadata": {},
   "outputs": [
    {
     "name": "stdout",
     "output_type": "stream",
     "text": [
      ".. _diabetes_dataset:\n",
      "\n",
      "Diabetes dataset\n",
      "----------------\n",
      "\n",
      "Ten baseline variables, age, sex, body mass index, average blood\n",
      "pressure, and six blood serum measurements were obtained for each of n =\n",
      "442 diabetes patients, as well as the response of interest, a\n",
      "quantitative measure of disease progression one year after baseline.\n",
      "\n",
      "**Data Set Characteristics:**\n",
      "\n",
      "  :Number of Instances: 442\n",
      "\n",
      "  :Number of Attributes: First 10 columns are numeric predictive values\n",
      "\n",
      "  :Target: Column 11 is a quantitative measure of disease progression one year after baseline\n",
      "\n",
      "  :Attribute Information:\n",
      "      - Age\n",
      "      - Sex\n",
      "      - Body mass index\n",
      "      - Average blood pressure\n",
      "      - S1\n",
      "      - S2\n",
      "      - S3\n",
      "      - S4\n",
      "      - S5\n",
      "      - S6\n",
      "\n",
      "Note: Each of these 10 feature variables have been mean centered and scaled by the standard deviation times `n_samples` (i.e. the sum of squares of each column totals 1).\n",
      "\n",
      "Source URL:\n",
      "https://www4.stat.ncsu.edu/~boos/var.select/diabetes.html\n",
      "\n",
      "For more information see:\n",
      "Bradley Efron, Trevor Hastie, Iain Johnstone and Robert Tibshirani (2004) \"Least Angle Regression,\" Annals of Statistics (with discussion), 407-499.\n",
      "(https://web.stanford.edu/~hastie/Papers/LARS/LeastAngle_2002.pdf)\n",
      "(397, 10)\n",
      "(45, 10)\n",
      "(397,)\n",
      "(45,)\n"
     ]
    }
   ],
   "source": [
    "from sklearn.datasets import load_diabetes\n",
    "diabetes_dataset = load_diabetes()\n",
    "\n",
    "print(diabetes_dataset[\"DESCR\"])\n",
    "\n",
    "\n",
    "# Save the input and target variables\n",
    "#print(diabetes_dataset.keys())\n",
    "\n",
    "data = diabetes_dataset[\"data\"]\n",
    "targets = diabetes_dataset[\"target\"]\n",
    "\n",
    "\n",
    "# Normalise the target data (this will make clearer training curves)\n",
    "\n",
    "targets = (targets - targets.mean(axis=0)) /targets.std()\n",
    "\n",
    "\n",
    "# Split the data into train and test sets\n",
    "\n",
    "from sklearn.model_selection import train_test_split\n",
    "\n",
    "train_data,test_data,train_targets,test_targets = train_test_split(data,targets,test_size=0.1)\n",
    "\n",
    "print(train_data.shape)\n",
    "print(test_data.shape)\n",
    "print(train_targets.shape)\n",
    "print(test_targets.shape)\n"
   ]
  },
  {
   "cell_type": "markdown",
   "metadata": {},
   "source": [
    "\n",
    "### Train a feedforwad neural network model\n",
    "\n"
   ]
  },
  {
   "cell_type": "code",
   "execution_count": 4,
   "metadata": {
    "scrolled": false
   },
   "outputs": [
    {
     "name": "stdout",
     "output_type": "stream",
     "text": [
      "Model: \"sequential\"\n",
      "_________________________________________________________________\n",
      "Layer (type)                 Output Shape              Param #   \n",
      "=================================================================\n",
      "dense (Dense)                (None, 128)               1408      \n",
      "_________________________________________________________________\n",
      "dense_1 (Dense)              (None, 128)               16512     \n",
      "_________________________________________________________________\n",
      "dense_2 (Dense)              (None, 128)               16512     \n",
      "_________________________________________________________________\n",
      "dense_3 (Dense)              (None, 128)               16512     \n",
      "_________________________________________________________________\n",
      "dense_4 (Dense)              (None, 128)               16512     \n",
      "_________________________________________________________________\n",
      "dense_5 (Dense)              (None, 128)               16512     \n",
      "_________________________________________________________________\n",
      "dense_6 (Dense)              (None, 1)                 129       \n",
      "=================================================================\n",
      "Total params: 84,097\n",
      "Trainable params: 84,097\n",
      "Non-trainable params: 0\n",
      "_________________________________________________________________\n",
      "2/2 - 0s - loss: 0.9283 - mae: 0.7427\n"
     ]
    },
    {
     "data": {
      "text/plain": [
       "[0.9282785058021545, 0.7427293658256531]"
      ]
     },
     "execution_count": 4,
     "metadata": {},
     "output_type": "execute_result"
    }
   ],
   "source": [
    "\n",
    "# Build the model\n",
    "\n",
    "from tensorflow.keras.models import Sequential\n",
    "from tensorflow.keras.layers import Dense\n",
    "\n",
    "# Print the model summary\n",
    "\n",
    "def get_model():\n",
    "    model = Sequential([\n",
    "        Dense(128,activation='relu',input_shape=(train_data.shape[1],)),\n",
    "        Dense(128,activation='relu'),\n",
    "        Dense(128,activation='relu'),\n",
    "        Dense(128,activation='relu'),\n",
    "        Dense(128,activation='relu'),\n",
    "        Dense(128,activation='relu'),\n",
    "        Dense(1),\n",
    "    ])\n",
    "    \n",
    "    return model\n",
    "\n",
    "model = get_model()\n",
    "\n",
    "model.summary()\n",
    "\n",
    "\n",
    "# Compile the model\n",
    "model.compile(optimizer='adam',loss='mse',metrics=[\"mae\"])\n",
    "\n",
    "# Train the model, with some of the data reserved for validation\n",
    "history = model.fit(train_data,train_targets,epochs=100,validation_split=0.15,batch_size=64,verbose=False)\n",
    "\n",
    "# Evaluate the model on the test set\n",
    "model.evaluate(test_data,test_targets,verbose=2)"
   ]
  },
  {
   "cell_type": "markdown",
   "metadata": {},
   "source": [
    "### Plot the learning curves"
   ]
  },
  {
   "cell_type": "code",
   "execution_count": 5,
   "metadata": {},
   "outputs": [
    {
     "name": "stderr",
     "output_type": "stream",
     "text": [
      "C:\\Users\\zhaoh\\anaconda3\\lib\\site-packages\\ipykernel_launcher.py:10: UserWarning: Matplotlib is currently using module://ipykernel.pylab.backend_inline, which is a non-GUI backend, so cannot show the figure.\n",
      "  # Remove the CWD from sys.path while we load stuff.\n"
     ]
    },
    {
     "data": {
      "image/png": "[encoded data removed]",
      "text/plain": [
       "<Figure size 432x288 with 1 Axes>"
      ]
     },
     "metadata": {
      "needs_background": "light"
     },
     "output_type": "display_data"
    }
   ],
   "source": [
    "\n",
    "\n",
    "import matplotlib.pyplot as plt\n",
    "\n",
    "fig1 = plt.figure(1)\n",
    "plt.plot(history.history['loss'])\n",
    "plt.plot(history.history['val_loss'])\n",
    "plt.title('Loss vs. epochs')\n",
    "plt.ylabel('Loss')\n",
    "plt.xlabel('Epoch')\n",
    "plt.legend(['Training', 'Validation'], loc='upper right')\n",
    "fig1.show()"
   ]
  },
  {
   "cell_type": "markdown",
   "metadata": {},
   "source": [
    "### Using Model regularization to improve the model's overfit problem"
   ]
  },
  {
   "cell_type": "code",
   "execution_count": 6,
   "metadata": {},
   "outputs": [
    {
     "name": "stdout",
     "output_type": "stream",
     "text": [
      "2/2 - 0s - loss: 0.6349 - mae: 0.6328\n"
     ]
    },
    {
     "name": "stderr",
     "output_type": "stream",
     "text": [
      "C:\\Users\\zhaoh\\anaconda3\\lib\\site-packages\\ipykernel_launcher.py:45: UserWarning: Matplotlib is currently using module://ipykernel.pylab.backend_inline, which is a non-GUI backend, so cannot show the figure.\n"
     ]
    },
    {
     "data": {
      "image/png": "[encoded data removed]",
      "text/plain": [
       "<Figure size 432x288 with 1 Axes>"
      ]
     },
     "metadata": {
      "needs_background": "light"
     },
     "output_type": "display_data"
    }
   ],
   "source": [
    "\n",
    "# Adding regularisation with weight decay and dropout in the model\n",
    "\n",
    "\n",
    "from tensorflow.keras.layers import Dropout\n",
    "from tensorflow.keras import regularizers\n",
    "\n",
    "def get_regularised_model(wd, rate):\n",
    "    model = Sequential([\n",
    "        Dense(128, kernel_regularizer=regularizers.l2(wd),activation=\"relu\", input_shape=(train_data.shape[1],)),\n",
    "        Dropout(rate),\n",
    "        Dense(128, kernel_regularizer=regularizers.l2(wd),activation=\"relu\"),\n",
    "        Dropout(rate),\n",
    "        Dense(128, kernel_regularizer=regularizers.l2(wd),activation=\"relu\"),\n",
    "        Dropout(rate),\n",
    "        Dense(128, kernel_regularizer=regularizers.l2(wd),activation=\"relu\"),\n",
    "        Dropout(rate),\n",
    "        Dense(128, kernel_regularizer=regularizers.l2(wd),activation=\"relu\"),\n",
    "        Dropout(rate),\n",
    "        Dense(128, kernel_regularizer=regularizers.l2(wd),activation=\"relu\"),\n",
    "        Dense(1)\n",
    "    ])\n",
    "    return model\n",
    "\n",
    "\n",
    "# Re-build the model with weight decay and dropout layers\n",
    "model = get_regularised_model(1e-5,0.3)\n",
    "\n",
    "# Compile the model\n",
    "model.compile(optimizer='adam',loss='mse',metrics=['mae'])\n",
    "\n",
    "# Train the model, with some of the data reserved for validation\n",
    "history=model.fit(train_data,train_targets,epochs=100,validation_split=0.15,batch_size=64,verbose=False)\n",
    "\n",
    "# Evaluate the model on the test set\n",
    "model.evaluate(test_data,test_targets,verbose=2)\n",
    "\n",
    "# Plot the training and validation loss\n",
    "fig2 = plt.figure(2)\n",
    "plt.plot(history.history['loss'])\n",
    "plt.plot(history.history['val_loss'])\n",
    "plt.title('Loss vs. epochs')\n",
    "plt.ylabel('Loss')\n",
    "plt.xlabel('Epoch')\n",
    "plt.legend(['Training', 'Validation'], loc='upper right')\n",
    "fig2.show()\n",
    "\n"
   ]
  },
  {
   "cell_type": "markdown",
   "metadata": {},
   "source": [
    "### Introduction to callbacks"
   ]
  },
  {
   "cell_type": "code",
   "execution_count": 7,
   "metadata": {},
   "outputs": [
    {
     "name": "stdout",
     "output_type": "stream",
     "text": [
      "starting training ......\n",
      "starting epoch: 0 -->\n",
      "Training: starting batch 0\n",
      "Training: finished batch 0\n",
      "Training: starting batch 1\n",
      "Training: finished batch 1\n",
      "Training: starting batch 2\n",
      "Training: finished batch 2\n",
      "Training: starting batch 3\n",
      "Training: finished batch 3\n",
      "finished epoch: 0 <--\n",
      "starting epoch: 1 -->\n",
      "Training: starting batch 0\n",
      "Training: finished batch 0\n",
      "Training: starting batch 1\n",
      "Training: finished batch 1\n",
      "Training: starting batch 2\n",
      "Training: finished batch 2\n",
      "Training: starting batch 3\n",
      "Training: finished batch 3\n",
      "finished epoch: 1 <--\n",
      "starting epoch: 2 -->\n",
      "Training: starting batch 0\n",
      "Training: finished batch 0\n",
      "Training: starting batch 1\n",
      "Training: finished batch 1\n",
      "Training: starting batch 2\n",
      "Training: finished batch 2\n",
      "Training: starting batch 3\n",
      "Training: finished batch 3\n",
      "finished epoch: 2 <--\n",
      "Finished training ......\n",
      "starting testing ......\n",
      "Testing: starting batch 0\n",
      "Testing: finished batch 0\n",
      "Testing: starting batch 1\n",
      "Testing: finished batch 1\n",
      "Finished testing ......\n",
      "starting predicting ......\n",
      "Predicting: starting batch 0\n",
      "Predicting: finished batch 0\n",
      "Predicting: starting batch 1\n",
      "Predicting: finished batch 1\n",
      "Finished predicting ......\n"
     ]
    },
    {
     "data": {
      "text/plain": [
       "array([[ 0.00236298],\n",
       "       [ 0.00981055],\n",
       "       [-0.17767626],\n",
       "       [-0.11997886],\n",
       "       [-0.1655179 ],\n",
       "       [-0.11367434],\n",
       "       [-0.13184328],\n",
       "       [-0.10723002],\n",
       "       [-0.03079619],\n",
       "       [-0.17160818],\n",
       "       [-0.09102561],\n",
       "       [-0.19292967],\n",
       "       [-0.04595215],\n",
       "       [-0.00068817],\n",
       "       [-0.20553602],\n",
       "       [-0.21066085],\n",
       "       [-0.24367802],\n",
       "       [-0.15127608],\n",
       "       [-0.02026674],\n",
       "       [-0.00181945],\n",
       "       [-0.16693346],\n",
       "       [-0.03367356],\n",
       "       [-0.14717896],\n",
       "       [-0.24383138],\n",
       "       [-0.15643516],\n",
       "       [-0.13695073],\n",
       "       [-0.19265029],\n",
       "       [-0.13766503],\n",
       "       [ 0.00494476],\n",
       "       [-0.01860392],\n",
       "       [ 0.00398846],\n",
       "       [-0.22204816],\n",
       "       [ 0.01247501],\n",
       "       [ 0.01006011],\n",
       "       [-0.21646367],\n",
       "       [-0.21398365],\n",
       "       [-0.05589603],\n",
       "       [-0.19062455],\n",
       "       [-0.23321971],\n",
       "       [-0.18660513],\n",
       "       [ 0.00244402],\n",
       "       [-0.16146813],\n",
       "       [-0.21785006],\n",
       "       [ 0.00305658],\n",
       "       [-0.01161148]], dtype=float32)"
      ]
     },
     "execution_count": 7,
     "metadata": {},
     "output_type": "execute_result"
    }
   ],
   "source": [
    "\n",
    "# Write a custom callback\n",
    "from tensorflow.keras.callbacks import Callback\n",
    "\n",
    "class TrainingCallback(Callback):\n",
    "    \n",
    "    def on_train_begin(self,logs=None):\n",
    "        print(\"starting training ......\")\n",
    "    \n",
    "    def on_epoch_begin(self,epoch,logs=None):\n",
    "        print(f\"starting epoch: {epoch} -->\")\n",
    "        \n",
    "    def on_train_batch_begin(self,batch,logs=None):\n",
    "        print(f\"Training: starting batch {batch}\")\n",
    "        \n",
    "    def on_train_batch_end(self,batch,logs=None):\n",
    "        print(f\"Training: finished batch {batch}\")        \n",
    "        \n",
    "    def on_epoch_end(self,epoch,logs=None):\n",
    "        print(f\"finished epoch: {epoch} <--\")\n",
    "        \n",
    "    def on_train_end(self,logs=None):\n",
    "        print(\"Finished training ......\")\n",
    "        \n",
    "class TestingCallback(Callback):\n",
    "    \n",
    "    def on_test_begin(self,logs=None):\n",
    "        print(\"starting testing ......\")\n",
    "        \n",
    "    def on_test_batch_begin(self,batch,logs=None):\n",
    "        print(f\"Testing: starting batch {batch}\")\n",
    "        \n",
    "    def on_test_batch_end(self,batch,logs=None):\n",
    "        print(f\"Testing: finished batch {batch}\")        \n",
    "        \n",
    "    def on_test_end(self,logs=None):\n",
    "        print(\"Finished testing ......\")        \n",
    "\n",
    "class PredictionCallback(Callback):\n",
    "    \n",
    "    def on_predict_begin(self,logs=None):\n",
    "        print(\"starting predicting ......\")\n",
    "        \n",
    "    def on_predict_batch_begin(self,batch,logs=None):\n",
    "        print(f\"Predicting: starting batch {batch}\")\n",
    "        \n",
    "    def on_predict_batch_end(self,batch,logs=None):\n",
    "        print(f\"Predicting: finished batch {batch}\")        \n",
    "        \n",
    "    def on_predict_end(self,logs=None):\n",
    "        print(\"Finished predicting ......\")     \n",
    "        \n",
    "        \n",
    "# Re-build the model\n",
    "model = get_regularised_model(1e-5,0.3)\n",
    "\n",
    "# Compile the model\n",
    "model.compile(optimizer='adam',loss='mse')\n",
    "\n",
    "# Train the model, with some of the data reserved for validation\n",
    "history=model.fit(train_data,train_targets,epochs=3,batch_size=128,verbose=False,callbacks=[TrainingCallback()])\n",
    "\n",
    "# Evaluate the model\n",
    "model.evaluate(test_data,test_targets,verbose=False,callbacks=[TestingCallback()])\n",
    "\n",
    "# Make predictions with the model\n",
    "model.predict(test_data,verbose=False,callbacks=[PredictionCallback()])\n"
   ]
  },
  {
   "cell_type": "code",
   "execution_count": null,
   "metadata": {},
   "outputs": [],
   "source": []
  }
 ],
 "metadata": {
  "kernelspec": {
   "display_name": "Python 3",
   "language": "python",
   "name": "python3"
  },
  "language_info": {
   "codemirror_mode": {
    "name": "ipython",
    "version": 3
   },
   "file_extension": ".py",
   "mimetype": "text/x-python",
   "name": "python",
   "nbconvert_exporter": "python",
   "pygments_lexer": "ipython3",
   "version": "3.7.6"
  }
 },
 "nbformat": 4,
 "nbformat_minor": 4
}
