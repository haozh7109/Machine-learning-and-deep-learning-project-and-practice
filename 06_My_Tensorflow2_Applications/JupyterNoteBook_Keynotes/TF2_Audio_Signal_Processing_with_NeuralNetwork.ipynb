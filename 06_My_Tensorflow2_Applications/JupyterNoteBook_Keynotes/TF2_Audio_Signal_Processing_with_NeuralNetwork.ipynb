{
 "cells": [
  {
   "cell_type": "markdown",
   "metadata": {},
   "source": [
    "# Tensorflow2 KeyNotes\n",
    "### == Convolutional Neural Network based Fourier Transform (TF2) \n",
    "### Instructions\n",
    "\n",
    "These serial notebooks are intended to record my practicing and keynotes with deep learning in the framework of TensorFlow 2. Within these notebooks, I demonstrate the networks with specific examples and my personal interpretations.  You can find instructions in each section for each project.  Feel free to refer to it if is helpful for your work. \n",
    "\n",
    "In this notebook, I demonstrated an example of using neural networks for audio signal analysis and signal processing in python. First, I take the traditional audio feature extraction method as an example, and then compare the dense neural network with the convolutional neural network in the audio signal noise reduction experiment. The following content is included in this notebook:\n",
    "\n",
    "1. Audio signal analysis in python (Shot Time Fourier Transform, Audio Features extraction).\n",
    "2. Audio signal denoising based on dense neural network\n",
    "3. Audio signal denoising based on convolutional neural network\n",
    "\n",
    "\n",
    "### Code by Hao, Zhao, Nov, 2020.\n",
    "\n"
   ]
  },
  {
   "cell_type": "markdown",
   "metadata": {},
   "source": [
    "### Import the tensorflow library"
   ]
  },
  {
   "cell_type": "code",
   "execution_count": 1,
   "metadata": {},
   "outputs": [
    {
     "name": "stdout",
     "output_type": "stream",
     "text": [
      "2.2.0\n"
     ]
    }
   ],
   "source": [
    "import tensorflow as tf\n",
    "print(tf.__version__)"
   ]
  },
  {
   "cell_type": "markdown",
   "metadata": {},
   "source": [
    "\n",
    "###  Load the external libraries"
   ]
  },
  {
   "cell_type": "code",
   "execution_count": 2,
   "metadata": {},
   "outputs": [],
   "source": [
    "import numpy as np\n",
    "# %matplotlib inline\n",
    "import matplotlib as mpl\n",
    "import matplotlib.pyplot as plt\n",
    "import scipy.fftpack\n",
    "import time\n",
    "import cmath\n",
    "\n",
    "from tensorflow.keras.models import Model,Sequential\n",
    "from tensorflow.keras.layers import Dense,BatchNormalization,Dropout,Conv1D,SimpleRNN,AveragePooling1D,Flatten, Conv1D,Flatten,Reshape"
   ]
  }
 ],
 "metadata": {
  "kernelspec": {
   "display_name": "Python 3",
   "language": "python",
   "name": "python3"
  },
  "language_info": {
   "codemirror_mode": {
    "name": "ipython",
    "version": 3
   },
   "file_extension": ".py",
   "mimetype": "text/x-python",
   "name": "python",
   "nbconvert_exporter": "python",
   "pygments_lexer": "ipython3",
   "version": "3.7.6"
  }
 },
 "nbformat": 4,
 "nbformat_minor": 4
}
